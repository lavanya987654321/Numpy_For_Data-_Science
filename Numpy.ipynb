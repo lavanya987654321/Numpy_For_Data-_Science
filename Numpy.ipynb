{
 "cells": [
  {
   "cell_type": "markdown",
   "id": "267da330-0149-4238-a63b-d756de43412e",
   "metadata": {},
   "source": [
    "# Usage of Numpy In Data Science:\n",
    "            NumPy is a fundamental package for numerical computation in Python and is widely used in data science.Numpy helps to manipulate,aggregate and the data.NumPy also provides powerful tools for working with arrays.Numpy Here are some of the basic functionalities of NumPy that are essential in data science:"
   ]
  },
  {
   "cell_type": "markdown",
   "id": "e3010e8d-fc2b-470c-9686-7aafad16f69e",
   "metadata": {},
   "source": [
    "For using numpy firstly we have to import the numpy package as we want.Here i'm importing it as np:"
   ]
  },
  {
   "cell_type": "code",
   "execution_count": 6,
   "id": "0d5dcf7f-8b2d-4393-9bfb-5db52f192024",
   "metadata": {},
   "outputs": [],
   "source": [
    "import numpy as np"
   ]
  },
  {
   "cell_type": "markdown",
   "id": "b879992c-2720-40b2-823e-7f24784f03e3",
   "metadata": {},
   "source": [
    "## Creating Arrays:\n",
    "             NumPy offers a variety of methods to create arrays, each suited for different use cases. Here are some of the most common ways to create arrays in NumPy:\n",
    "##### 1.From Lists or Tuples:"
   ]
  },
  {
   "cell_type": "code",
   "execution_count": 9,
   "id": "6ac8d301-b7ed-46d9-b585-f0275d3886b6",
   "metadata": {},
   "outputs": [
    {
     "name": "stdout",
     "output_type": "stream",
     "text": [
      "[1, 2, 3, 4]\n",
      "(7, 8, 9, 6)\n"
     ]
    }
   ],
   "source": [
    "#creating array using lists\n",
    "array_lists=([1,2,3,4])\n",
    "#creating array using tupes\n",
    "array_tuples=((7,8,9,6))\n",
    "print(array_lists)\n",
    "print(array_tuples)"
   ]
  },
  {
   "cell_type": "markdown",
   "id": "238a6668-efe1-4384-a642-e45a25b1d51a",
   "metadata": {},
   "source": [
    "##### 2.Using arange():\n",
    "\n",
    "Creating Arrays with a Range of Values: Similar to Python's range() but returns an array with the defined step difference,in the below example step=2."
   ]
  },
  {
   "cell_type": "code",
   "execution_count": 11,
   "id": "1587f0dc-59f8-4f27-81d8-d665b44c4d71",
   "metadata": {},
   "outputs": [
    {
     "name": "stdout",
     "output_type": "stream",
     "text": [
      "[0 2 4 6 8]\n"
     ]
    }
   ],
   "source": [
    "array = np.arange(0, 10, 2)\n",
    "print(array)"
   ]
  },
  {
   "cell_type": "markdown",
   "id": "3d704524-225e-4325-b376-4308d6d24c44",
   "metadata": {},
   "source": [
    "##### 3.Using linspace():\n",
    "\n",
    "Evenly Spaced Values Over a Specified Interval: Generate a specified number of evenly spaced values between a start and an end value."
   ]
  },
  {
   "cell_type": "code",
   "execution_count": 14,
   "id": "24be3636-9a23-467f-8925-79ebc8c48860",
   "metadata": {},
   "outputs": [
    {
     "name": "stdout",
     "output_type": "stream",
     "text": [
      "[ 0.          1.11111111  2.22222222  3.33333333  4.44444444  5.55555556\n",
      "  6.66666667  7.77777778  8.88888889 10.        ]\n"
     ]
    }
   ],
   "source": [
    "array = np.linspace(0, 10, 10)\n",
    "print(array)"
   ]
  },
  {
   "cell_type": "markdown",
   "id": "a045a975-8415-40c6-8044-dde3753e9918",
   "metadata": {},
   "source": [
    "##### 4.Using zeros(),ones():\n",
    "\n",
    "Arrays Filled with Zeros,Ones: Create an array of specified shape filled with zeros,ones."
   ]
  },
  {
   "cell_type": "code",
   "execution_count": 18,
   "id": "3cb2c7e7-0a47-4129-a75a-c11ee8ba967a",
   "metadata": {},
   "outputs": [
    {
     "name": "stdout",
     "output_type": "stream",
     "text": [
      "array with zeros:\n",
      "[[0. 0. 0.]\n",
      " [0. 0. 0.]\n",
      " [0. 0. 0.]]\n",
      "array with ones:\n",
      "[[1. 1. 1.]\n",
      " [1. 1. 1.]]\n"
     ]
    }
   ],
   "source": [
    "#creating array with Zeros\n",
    "array_0 = np.zeros((3,3))\n",
    "#creating array with ones\n",
    "array_1 = np.ones((2,3))\n",
    "print(\"array with zeros:\")\n",
    "print(array_0)\n",
    "print(\"array with ones:\")\n",
    "print(array_1)"
   ]
  },
  {
   "cell_type": "markdown",
   "id": "7ff27eae-9f11-4f09-9078-35da2204fff7",
   "metadata": {},
   "source": [
    "##### 5.Using empty():\n",
    "\n",
    "Uninitialized Arrays: Create an array without initializing its values (contains whatever values are in memory at that location)."
   ]
  },
  {
   "cell_type": "code",
   "execution_count": 20,
   "id": "06c9b16d-bb4f-42ee-9dc6-8e2b85b24bc4",
   "metadata": {},
   "outputs": [
    {
     "name": "stdout",
     "output_type": "stream",
     "text": [
      "[[ 2.5  5. ]\n",
      " [ 7.5 10. ]]\n"
     ]
    }
   ],
   "source": [
    "empty_array = np.empty((2, 2))\n",
    "print(empty_array)"
   ]
  },
  {
   "cell_type": "markdown",
   "id": "1593c20b-6436-4886-ae3d-1015ee04fd6c",
   "metadata": {},
   "source": [
    "##### 6.Using eye():\n",
    "\n",
    "Identity Matrix: Create a 2D identity matrix (a square matrix with ones on the diagonal and zeros elsewhere)."
   ]
  },
  {
   "cell_type": "code",
   "execution_count": 21,
   "id": "a9174f8d-d81a-424a-b85d-63d4e1ff8be1",
   "metadata": {},
   "outputs": [
    {
     "name": "stdout",
     "output_type": "stream",
     "text": [
      "[[1. 0. 0.]\n",
      " [0. 1. 0.]\n",
      " [0. 0. 1.]]\n"
     ]
    }
   ],
   "source": [
    "identity_matrix = np.eye(3)  \n",
    "print(identity_matrix)"
   ]
  },
  {
   "cell_type": "markdown",
   "id": "25bd237e-f19c-4253-9672-fb7a6197ed8d",
   "metadata": {},
   "source": [
    "##### 7.Using full():\n",
    "\n",
    "Arrays Filled with a Specific Value: Create an array of a specified shape filled with a specified value."
   ]
  },
  {
   "cell_type": "code",
   "execution_count": 22,
   "id": "5aeab83e-9faf-47fa-937c-837af6f521cf",
   "metadata": {},
   "outputs": [
    {
     "name": "stdout",
     "output_type": "stream",
     "text": [
      "[[7 7 7]\n",
      " [7 7 7]]\n"
     ]
    }
   ],
   "source": [
    "full_array = np.full((2, 3), 7)  \n",
    "print(full_array)"
   ]
  },
  {
   "cell_type": "markdown",
   "id": "77c8c1e3-8be1-42bd-aae7-a97eceebd04e",
   "metadata": {},
   "source": [
    "##### 8.Using random Module:\n",
    "\n",
    "Random Arrays: Generate arrays filled with random numbers."
   ]
  },
  {
   "cell_type": "code",
   "execution_count": 24,
   "id": "7187bf7b-264e-4f99-ace7-1db15cea3c58",
   "metadata": {},
   "outputs": [
    {
     "name": "stdout",
     "output_type": "stream",
     "text": [
      "[[0.07376425 0.03768713 0.92046786]\n",
      " [0.75936484 0.62784486 0.10314081]\n",
      " [0.09341568 0.15981832 0.06305429]]\n"
     ]
    }
   ],
   "source": [
    "#Uniform Distribution: Random values between 0 and 1\n",
    "random_array = np.random.rand(3, 3)  \n",
    "print(random_array)"
   ]
  },
  {
   "cell_type": "code",
   "execution_count": 25,
   "id": "9348bf74-8260-4737-9a5a-bf9180c70e6c",
   "metadata": {},
   "outputs": [
    {
     "name": "stdout",
     "output_type": "stream",
     "text": [
      "[[-0.34721449  0.05060423 -0.22506696]\n",
      " [-1.44770182  0.82545616  0.22525486]\n",
      " [ 0.60569999  0.41342593 -0.96006834]]\n"
     ]
    }
   ],
   "source": [
    "#Normal Distribution: Random values from a normal (Gaussian) distribution\n",
    "normal_array = np.random.randn(3, 3)\n",
    "print(normal_array)"
   ]
  },
  {
   "cell_type": "code",
   "execution_count": 26,
   "id": "646c2182-8231-498d-89b9-86cd9a64d97c",
   "metadata": {},
   "outputs": [
    {
     "name": "stdout",
     "output_type": "stream",
     "text": [
      "[[2 7 2]\n",
      " [9 2 7]\n",
      " [5 2 7]]\n"
     ]
    }
   ],
   "source": [
    "#Random Integers: Random integers between specified bounds\n",
    "random_integers = np.random.randint(1, 10, size=(3, 3))\n",
    "print(random_integers)"
   ]
  },
  {
   "cell_type": "markdown",
   "id": "44ac41e1-ec99-4c43-97f9-0df97526ba15",
   "metadata": {},
   "source": [
    "##### 9.Using diag():\n",
    "\n",
    "Diagonal Arrays: Create a diagonal array with specified values on the diagonal."
   ]
  },
  {
   "cell_type": "code",
   "execution_count": 27,
   "id": "f9caa47c-0395-4e66-9c44-6f1333b1a146",
   "metadata": {},
   "outputs": [
    {
     "name": "stdout",
     "output_type": "stream",
     "text": [
      "[[1 0 0 0]\n",
      " [0 2 0 0]\n",
      " [0 0 3 0]\n",
      " [0 0 0 4]]\n"
     ]
    }
   ],
   "source": [
    "diag_array = np.diag([1, 2, 3, 4])  \n",
    "print(diag_array)"
   ]
  },
  {
   "cell_type": "markdown",
   "id": "1abc4ab9-2d7e-4f0c-ab63-8bddccd5c960",
   "metadata": {},
   "source": [
    "##### 10.Using tile()\n",
    "\n",
    "Repeating Arrays: Repeat an array a specified number of times"
   ]
  },
  {
   "cell_type": "code",
   "execution_count": 32,
   "id": "c40248a8-854b-419a-9cf1-54586336b8c6",
   "metadata": {},
   "outputs": [
    {
     "name": "stdout",
     "output_type": "stream",
     "text": [
      "[[1 2 3 1 2 3 1 2 3]\n",
      " [1 2 3 1 2 3 1 2 3]]\n"
     ]
    }
   ],
   "source": [
    "base_array = np.array([1, 2, 3])\n",
    "# Repeats the base array 2 times along the row and 3 times along the column\n",
    "tiled_array = np.tile(base_array, (2, 3))\n",
    "print(tiled_array)"
   ]
  },
  {
   "cell_type": "markdown",
   "id": "4dd5cbb0-28e8-4c76-aeb3-e4d24f868be4",
   "metadata": {},
   "source": [
    "##### Creating multidimensional array:\n",
    "Numpy multidimentional arrays can be created using nested lists or by using the arr.reshape() function."
   ]
  },
  {
   "cell_type": "code",
   "execution_count": 7,
   "id": "1c82a241-d1e1-4125-8f32-d8af8fbb4747",
   "metadata": {},
   "outputs": [
    {
     "name": "stdout",
     "output_type": "stream",
     "text": [
      "[[1 2 3]\n",
      " [4 5 6]\n",
      " [7 8 9]]\n"
     ]
    }
   ],
   "source": [
    "array_2D = np.array([[1,2,3],[4,5,6],[7,8,9]])\n",
    "print(array_2D)"
   ]
  },
  {
   "cell_type": "markdown",
   "id": "3b50145d-28a7-4130-b901-9c79172c69a6",
   "metadata": {},
   "source": [
    "## Manipulation Of Data:"
   ]
  },
  {
   "cell_type": "markdown",
   "id": "ce03eac5-590c-437a-83a2-317a3786b756",
   "metadata": {},
   "source": [
    "#### Reshaping Array:\n",
    "##### 1.reshape():\n",
    "\n",
    "Reshape an Existing Array: Change the shape of an existing array without changing its data"
   ]
  },
  {
   "cell_type": "code",
   "execution_count": 36,
   "id": "45affa44-494b-44c2-b3aa-39a7f5d67470",
   "metadata": {},
   "outputs": [
    {
     "name": "stdout",
     "output_type": "stream",
     "text": [
      "[[0 1 2]\n",
      " [3 4 5]]\n"
     ]
    }
   ],
   "source": [
    "array = np.arange(6)\n",
    "reshaped_array = array.reshape((2, 3))\n",
    "# Reshape to a 2x3 array\n",
    "print(reshaped_array)"
   ]
  },
  {
   "cell_type": "markdown",
   "id": "2d583422-45f8-4023-b839-5b9b236c0d7f",
   "metadata": {},
   "source": [
    "##### 2.flatten():\n",
    "\n",
    "Flatten: Convert a multi-dimensional array to a 1D array"
   ]
  },
  {
   "cell_type": "code",
   "execution_count": 37,
   "id": "c4cb2f23-5b85-47d1-9d7b-0be5ce56d193",
   "metadata": {},
   "outputs": [
    {
     "name": "stdout",
     "output_type": "stream",
     "text": [
      "[0 1 2 3 4 5]\n"
     ]
    }
   ],
   "source": [
    "flatten_arr = reshaped_array.flatten()\n",
    "print(flatten_arr)"
   ]
  },
  {
   "cell_type": "markdown",
   "id": "a2575bc5-de1d-4edf-a974-fdc7e1a17da1",
   "metadata": {},
   "source": [
    "#### Matrix Operations:\n",
    "##### 1.transpose():\n",
    "\n",
    "Transpose: Transpose a matrix (swapping rows and columns)"
   ]
  },
  {
   "cell_type": "code",
   "execution_count": 38,
   "id": "b466f59e-abef-41e0-9827-cbf6b0f8bc05",
   "metadata": {},
   "outputs": [
    {
     "name": "stdout",
     "output_type": "stream",
     "text": [
      "[[0 3]\n",
      " [1 4]\n",
      " [2 5]]\n"
     ]
    }
   ],
   "source": [
    "transposed_array = reshaped_array.T \n",
    "print(transposed_array)"
   ]
  },
  {
   "cell_type": "markdown",
   "id": "9e3dde4b-427c-4b04-8aa6-26d0a49bfa84",
   "metadata": {},
   "source": [
    "##### 2.trace():\n",
    "\n",
    "Trace of a matrix:calculates the sum of the diagonal elements."
   ]
  },
  {
   "cell_type": "code",
   "execution_count": 43,
   "id": "a08999d3-7721-4e99-90bb-7c04e685df3c",
   "metadata": {},
   "outputs": [
    {
     "name": "stdout",
     "output_type": "stream",
     "text": [
      "15\n"
     ]
    }
   ],
   "source": [
    "array = np.array([[1,2,3],[4,5,6],[7,8,9]])\n",
    "trace_of_a_matrix = np.trace(array)\n",
    "print(trace_of_a_matrix)"
   ]
  },
  {
   "cell_type": "markdown",
   "id": "8229ce8c-600f-46d5-a3b6-c46c393a7cff",
   "metadata": {},
   "source": [
    "Here,the diagonal elements of the matrix are 1,5,9.\n",
    "Therefore the trace=1+5+9=15"
   ]
  },
  {
   "cell_type": "markdown",
   "id": "00501e2b-b8da-4f96-ba67-e3ed337c87d1",
   "metadata": {},
   "source": [
    "##### 3.diagonal():\n",
    "\n",
    "Diagonal: Diagonal Prints the diagonal elements of a matrix and return them as a 1D array."
   ]
  },
  {
   "cell_type": "code",
   "execution_count": 44,
   "id": "120949da-83f3-4cee-84b1-3b2ec229720b",
   "metadata": {},
   "outputs": [
    {
     "name": "stdout",
     "output_type": "stream",
     "text": [
      "[1 5 9]\n"
     ]
    }
   ],
   "source": [
    "diagonal_matrix = np.diagonal(array)\n",
    "print(diagonal_matrix)"
   ]
  },
  {
   "cell_type": "markdown",
   "id": "7b4bcca3-fe92-4a1d-a053-bb52fc8e8b9c",
   "metadata": {},
   "source": [
    "##### matmul():\n",
    "\n",
    "Matrix Multiplication: Multiply two matrices."
   ]
  },
  {
   "cell_type": "code",
   "execution_count": 82,
   "id": "989a692f-dc66-400c-b402-7e25ef61dacf",
   "metadata": {},
   "outputs": [
    {
     "name": "stdout",
     "output_type": "stream",
     "text": [
      "[[19 22]\n",
      " [43 50]]\n"
     ]
    }
   ],
   "source": [
    "matrix1 = np.array([[1, 2], [3, 4]])\n",
    "matrix2 = np.array([[5, 6], [7, 8]])\n",
    "matrix_mult = np.matmul(matrix1, matrix2)\n",
    "print(matrix_mult)"
   ]
  },
  {
   "cell_type": "markdown",
   "id": "ad3ac540-43e1-4af9-8b1c-e6a45f197918",
   "metadata": {},
   "source": [
    "#### Concatenation:\n",
    "##### concatenate():\n",
    "\n",
    "Concatenate: It combine arrays along an existing axis(if axis=0 combines along the rows , axis=1 combines along the columns)."
   ]
  },
  {
   "cell_type": "code",
   "execution_count": 46,
   "id": "e9272991-7a98-4dcd-b456-3cccd96f38a3",
   "metadata": {},
   "outputs": [
    {
     "name": "stdout",
     "output_type": "stream",
     "text": [
      "[[1 2]\n",
      " [3 4]\n",
      " [5 6]\n",
      " [7 8]]\n"
     ]
    }
   ],
   "source": [
    "array1 = np.array([[1, 2], [3, 4]])\n",
    "array2 = np.array([[5, 6], [7, 8]])\n",
    "#combines along rows\n",
    "concatenated_array = np.concatenate((array1, array2), axis=0) \n",
    "print(concatenated_array)"
   ]
  },
  {
   "cell_type": "code",
   "execution_count": 48,
   "id": "26e73823-368b-46fb-b125-20ad9cd9989e",
   "metadata": {},
   "outputs": [
    {
     "name": "stdout",
     "output_type": "stream",
     "text": [
      "[[1 2 5 6]\n",
      " [3 4 7 8]]\n"
     ]
    }
   ],
   "source": [
    "# Combine along rows\n",
    "concatenated_array = np.concatenate((array1, array2), axis=1)  \n",
    "print(concatenated_array)"
   ]
  },
  {
   "cell_type": "markdown",
   "id": "6a9fc904-ae1b-4caf-a763-04acc1cf0b70",
   "metadata": {},
   "source": [
    "#### Stacking:\n",
    "Stacking: Combine arrays along a new axis"
   ]
  },
  {
   "cell_type": "markdown",
   "id": "8bea8868-8251-45ff-9a34-ceec4cc8e53b",
   "metadata": {},
   "source": [
    "##### vstack():\n",
    "\n",
    "Vertical Stacking:Used to stack the sequence of input arrays vertically (ie row wise) to make a single array.\n"
   ]
  },
  {
   "cell_type": "code",
   "execution_count": 50,
   "id": "516f3ff4-8d38-4306-8035-88b28d796044",
   "metadata": {},
   "outputs": [
    {
     "name": "stdout",
     "output_type": "stream",
     "text": [
      "[[1 2]\n",
      " [3 4]\n",
      " [5 6]\n",
      " [7 8]]\n"
     ]
    }
   ],
   "source": [
    "vstacked_array = np.vstack((array1, array2))  \n",
    "print(vstacked_array)"
   ]
  },
  {
   "cell_type": "markdown",
   "id": "a06feff9-7e7c-4002-945e-53c925c6d764",
   "metadata": {},
   "source": [
    "##### hstack():\n",
    "\n",
    "Horizontal Stacking : Used to stack the sequence of input arrays horizontally (ie column wise) to make a single array."
   ]
  },
  {
   "cell_type": "code",
   "execution_count": 51,
   "id": "0b5e5d5c-1349-45c9-a8ff-526cb81d516e",
   "metadata": {},
   "outputs": [
    {
     "name": "stdout",
     "output_type": "stream",
     "text": [
      "[[1 2 5 6]\n",
      " [3 4 7 8]]\n"
     ]
    }
   ],
   "source": [
    "hstacked_array = np.hstack((array1, array2))  \n",
    "print(hstacked_array)"
   ]
  },
  {
   "cell_type": "markdown",
   "id": "ecb58a66-1557-41d6-b1fd-3fd984871703",
   "metadata": {},
   "source": [
    "#### Splitting Arrays:\n",
    "\n",
    "Split: Split an array into multiple sub-arrays."
   ]
  },
  {
   "cell_type": "code",
   "execution_count": 54,
   "id": "58cffa23-f954-4ccf-9031-2ae8eaa05b7a",
   "metadata": {},
   "outputs": [
    {
     "name": "stdout",
     "output_type": "stream",
     "text": [
      "[array([[0, 1, 2]]), array([[3, 4, 5]]), array([[6, 7, 8]])]\n"
     ]
    }
   ],
   "source": [
    "array = np.arange(9).reshape((3, 3))\n",
    "split_array = np.split(array, 3)  \n",
    "print(split_array)"
   ]
  },
  {
   "cell_type": "markdown",
   "id": "759b3de7-249b-41c9-bfe7-be6aeb7eb533",
   "metadata": {},
   "source": [
    "##### vsplit():\n",
    "\n",
    "Vertical Splits:Used to spilt the input array vertically (ie row wise) into a multiple sub-arrays."
   ]
  },
  {
   "cell_type": "code",
   "execution_count": 55,
   "id": "d53fffd5-b2f9-433a-a65d-bbe44f1b8144",
   "metadata": {},
   "outputs": [
    {
     "name": "stdout",
     "output_type": "stream",
     "text": [
      "[array([[0, 1, 2]]), array([[3, 4, 5]]), array([[6, 7, 8]])]\n"
     ]
    }
   ],
   "source": [
    "vsplit_array = np.vsplit(array, 3) \n",
    "print(vsplit_array)"
   ]
  },
  {
   "cell_type": "markdown",
   "id": "1eb7f442-cf6b-4384-9eed-9085615c7f84",
   "metadata": {},
   "source": [
    "##### hsplit():\n",
    "\n",
    "Horizontal Splits:Used to spilt the input array horizontally (ie row wise) into a multiple sub-arrays."
   ]
  },
  {
   "cell_type": "code",
   "execution_count": 56,
   "id": "b626d192-6063-4654-9d10-7f48ee44412a",
   "metadata": {},
   "outputs": [
    {
     "name": "stdout",
     "output_type": "stream",
     "text": [
      "[array([[0],\n",
      "       [3],\n",
      "       [6]]), array([[1],\n",
      "       [4],\n",
      "       [7]]), array([[2],\n",
      "       [5],\n",
      "       [8]])]\n"
     ]
    }
   ],
   "source": [
    "hsplit_array = np.hsplit(array, 3) \n",
    "print(hsplit_array)"
   ]
  },
  {
   "cell_type": "markdown",
   "id": "c439c3f3-2bbf-4078-b4be-4002eadd2ada",
   "metadata": {},
   "source": [
    "#### Element-wise Operations:\n",
    "Arithmetic Operations: Perform element-wise addition, subtraction, multiplication, and division and returns the result asa an array.\n",
    "\n",
    "##### Addition:"
   ]
  },
  {
   "cell_type": "code",
   "execution_count": 57,
   "id": "f8997196-4184-4e47-a474-c1a4790dc908",
   "metadata": {},
   "outputs": [
    {
     "name": "stdout",
     "output_type": "stream",
     "text": [
      "[5 7 9]\n"
     ]
    }
   ],
   "source": [
    "array1 = np.array([1, 2, 3])\n",
    "array2 = np.array([4, 5, 6])\n",
    "sum_array = array1 + array2 \n",
    "# Element-wise addition\n",
    "print(sum_array)"
   ]
  },
  {
   "cell_type": "markdown",
   "id": "a6ff4ca2-0ae2-4daa-a2f6-987c6069962b",
   "metadata": {},
   "source": [
    "##### Subtraction:"
   ]
  },
  {
   "cell_type": "code",
   "execution_count": 58,
   "id": "b830445c-ab2b-4ac9-84ba-1339b3f1f11b",
   "metadata": {},
   "outputs": [
    {
     "name": "stdout",
     "output_type": "stream",
     "text": [
      "[-3 -3 -3]\n"
     ]
    }
   ],
   "source": [
    "diff_array = array1 - array2 \n",
    "# Element-wise subtraction\n",
    "print(diff_array)"
   ]
  },
  {
   "cell_type": "markdown",
   "id": "dbfcf527-ee87-448e-bbfa-b2a811b1bf9a",
   "metadata": {},
   "source": [
    "##### Multiplication:"
   ]
  },
  {
   "cell_type": "code",
   "execution_count": 59,
   "id": "36493a0f-afdc-43af-860d-4b1c41896708",
   "metadata": {},
   "outputs": [
    {
     "name": "stdout",
     "output_type": "stream",
     "text": [
      "[ 4 10 18]\n"
     ]
    }
   ],
   "source": [
    "product_array = array1 * array2 \n",
    "# Element-wise multiplication\n",
    "print(product_array)"
   ]
  },
  {
   "cell_type": "markdown",
   "id": "7905d891-77de-4357-b8c2-0a87000cd048",
   "metadata": {},
   "source": [
    "##### Division:"
   ]
  },
  {
   "cell_type": "code",
   "execution_count": 60,
   "id": "d8db23b5-8111-419c-b2a3-add2a8f8d89c",
   "metadata": {},
   "outputs": [
    {
     "name": "stdout",
     "output_type": "stream",
     "text": [
      "[0.25 0.4  0.5 ]\n"
     ]
    }
   ],
   "source": [
    "quotient_array = array1 / array2\n",
    "# Element-wise division\n",
    "print(quotient_array)"
   ]
  },
  {
   "cell_type": "markdown",
   "id": "9801f810-d7d8-4b60-b95c-51e5ed53bcc0",
   "metadata": {},
   "source": [
    "Universal Functions (ufuncs): Apply mathematical functions element-wise.\n",
    "\n",
    "##### Square root:"
   ]
  },
  {
   "cell_type": "code",
   "execution_count": 61,
   "id": "5e76dc8c-fe62-4c97-b063-4f2560eac2f0",
   "metadata": {},
   "outputs": [
    {
     "name": "stdout",
     "output_type": "stream",
     "text": [
      "[1.         1.41421356 1.73205081]\n"
     ]
    }
   ],
   "source": [
    "sqrt_array = np.sqrt(array1)  \n",
    "# Square root of each element\n",
    "print(sqrt_array)"
   ]
  },
  {
   "cell_type": "markdown",
   "id": "7711cff7-c1d7-4d5c-b7c1-508d28e7071c",
   "metadata": {},
   "source": [
    "##### Exponential:"
   ]
  },
  {
   "cell_type": "code",
   "execution_count": 62,
   "id": "11e6617f-092e-4a02-9b61-4e026bafdf1f",
   "metadata": {},
   "outputs": [
    {
     "name": "stdout",
     "output_type": "stream",
     "text": [
      "[ 2.71828183  7.3890561  20.08553692]\n"
     ]
    }
   ],
   "source": [
    "exp_array = np.exp(array1) \n",
    "# Exponential of each element\n",
    "print(exp_array)"
   ]
  },
  {
   "cell_type": "markdown",
   "id": "a996a09a-be01-4784-a242-14828b74a056",
   "metadata": {},
   "source": [
    "#### Boolean Indexing and Filtering:\n",
    "Boolean Indexing: Select elements based on conditions . If the condition is true then it returns the value . Otherwise it reurns null."
   ]
  },
  {
   "cell_type": "code",
   "execution_count": 64,
   "id": "fab325ec-d37d-4f7a-b507-32b200086a13",
   "metadata": {},
   "outputs": [
    {
     "name": "stdout",
     "output_type": "stream",
     "text": [
      "[3 4 5]\n"
     ]
    }
   ],
   "source": [
    "array = np.array([1, 2, 3, 4, 5])\n",
    "filtered_array = array[array > 2] \n",
    "print(filtered_array)"
   ]
  },
  {
   "cell_type": "markdown",
   "id": "4e88c445-251b-4ada-8bc6-b463a98c221e",
   "metadata": {},
   "source": [
    "Conditional Operations: Use np.where() for condition-based operations. If the condition is true then it returns the value . Otherwise it reurns 0."
   ]
  },
  {
   "cell_type": "code",
   "execution_count": 66,
   "id": "0445a714-381b-4658-a4f5-42ceaf5c43fa",
   "metadata": {},
   "outputs": [
    {
     "name": "stdout",
     "output_type": "stream",
     "text": [
      "[0 0 3 4 5]\n"
     ]
    }
   ],
   "source": [
    "result_array = np.where(array > 2, array, 0) \n",
    "print(result_array)"
   ]
  },
  {
   "cell_type": "markdown",
   "id": "15cac5a6-e021-48f7-8bda-2381402f6459",
   "metadata": {},
   "source": [
    "#### Sorting and Searching:\n",
    "Sort: Sort an array."
   ]
  },
  {
   "cell_type": "code",
   "execution_count": 68,
   "id": "8d74cce5-b4ca-4fa2-93db-40bfe0cffc1f",
   "metadata": {},
   "outputs": [
    {
     "name": "stdout",
     "output_type": "stream",
     "text": [
      "[1 2 3]\n"
     ]
    }
   ],
   "source": [
    "array = np.array([3, 1, 2])\n",
    "#sort in ascending order\n",
    "sorted_array = np.sort(array) \n",
    "print(sorted_array)"
   ]
  },
  {
   "cell_type": "markdown",
   "id": "2e1a917a-f52a-4af6-8316-b7f6cefb2d84",
   "metadata": {},
   "source": [
    "Argsort: Get the indices that would sort an array."
   ]
  },
  {
   "cell_type": "code",
   "execution_count": 69,
   "id": "2709fc1c-30ff-421d-8675-8474d15356f0",
   "metadata": {},
   "outputs": [
    {
     "name": "stdout",
     "output_type": "stream",
     "text": [
      "[1 2 0]\n"
     ]
    }
   ],
   "source": [
    "indices = np.argsort(array) \n",
    "# Indices of the sorted array\n",
    "print(indices)"
   ]
  },
  {
   "cell_type": "markdown",
   "id": "87062512-f7dc-4794-96ff-0da70d75cf9e",
   "metadata": {},
   "source": [
    "Searchsorted: Find indices where elements should be inserted to maintain order."
   ]
  },
  {
   "cell_type": "code",
   "execution_count": 71,
   "id": "c5b82299-46e0-4da9-a6fc-c8adcc6d936c",
   "metadata": {},
   "outputs": [
    {
     "name": "stdout",
     "output_type": "stream",
     "text": [
      "1\n"
     ]
    }
   ],
   "source": [
    "indices = np.searchsorted(sorted_array, 2) \n",
    "# Index where 2 should be inserted\n",
    "print(indices)"
   ]
  },
  {
   "cell_type": "markdown",
   "id": "8ab0c4ce-f659-43ee-b630-5756be5eaa87",
   "metadata": {},
   "source": [
    "## Aggregation and Statistical Functions:\n",
    "##### sum():\n",
    "\n",
    "Sum:Sum returns the sum of the elements in the array. "
   ]
  },
  {
   "cell_type": "code",
   "execution_count": 72,
   "id": "f689ddc1-20d8-4bb8-9f40-75aeb9c92c85",
   "metadata": {},
   "outputs": [
    {
     "name": "stdout",
     "output_type": "stream",
     "text": [
      "15\n"
     ]
    }
   ],
   "source": [
    "array = np.array([1, 2, 3, 4, 5])\n",
    "total_sum = np.sum(array)\n",
    "print(total_sum)"
   ]
  },
  {
   "cell_type": "markdown",
   "id": "5ce908b6-e0fa-4f78-9dce-160c04b383a4",
   "metadata": {},
   "source": [
    "##### mean():\n",
    "\n",
    "Mean:It returns the arithmetic mean of the elements present in the array.\n",
    "     \n",
    "      mean=(sum of all elements)/(no.of elements)"
   ]
  },
  {
   "cell_type": "code",
   "execution_count": 73,
   "id": "ddeb8ce4-d2e1-40ed-80d0-65db93635038",
   "metadata": {},
   "outputs": [
    {
     "name": "stdout",
     "output_type": "stream",
     "text": [
      "3.0\n"
     ]
    }
   ],
   "source": [
    "mean_value = np.mean(array)\n",
    "print(mean_value)"
   ]
  },
  {
   "cell_type": "markdown",
   "id": "95389035-3042-40cd-850a-4eaae7292c7b",
   "metadata": {},
   "source": [
    "##### median():\n",
    "\n",
    "Median:It returns the middle value of the sorted array."
   ]
  },
  {
   "cell_type": "code",
   "execution_count": 74,
   "id": "c7679363-019c-45e9-8680-3ce2b8784fff",
   "metadata": {},
   "outputs": [
    {
     "name": "stdout",
     "output_type": "stream",
     "text": [
      "3.0\n"
     ]
    }
   ],
   "source": [
    "median = np.median(array)\n",
    "print(median)"
   ]
  },
  {
   "cell_type": "markdown",
   "id": "f94aaac6-6a3c-412f-a6c8-20d7db3dbc51",
   "metadata": {},
   "source": [
    "##### std():\n",
    "\n",
    "Standard Deviation:It returns the standard deviation of the array elements."
   ]
  },
  {
   "cell_type": "code",
   "execution_count": 76,
   "id": "27675e71-06ed-4cec-8331-afb48d4cc158",
   "metadata": {},
   "outputs": [
    {
     "name": "stdout",
     "output_type": "stream",
     "text": [
      "1.4142135623730951\n"
     ]
    }
   ],
   "source": [
    "std_deviation = np.std(array)\n",
    "print(std_deviation)"
   ]
  },
  {
   "cell_type": "markdown",
   "id": "c546a4b5-becf-45cb-8803-a98469c3501d",
   "metadata": {},
   "source": [
    "##### min():\n",
    "\n",
    "Minimum : It returns the minimum value present in the input array elements."
   ]
  },
  {
   "cell_type": "code",
   "execution_count": 77,
   "id": "d04b12cf-9b00-4bc2-b040-b6a5f5c82519",
   "metadata": {},
   "outputs": [
    {
     "name": "stdout",
     "output_type": "stream",
     "text": [
      "1\n"
     ]
    }
   ],
   "source": [
    "min_value = np.min(array)\n",
    "print(min_value)"
   ]
  },
  {
   "cell_type": "markdown",
   "id": "17bc8516-f888-4940-a5cd-b35b3f947949",
   "metadata": {},
   "source": [
    "##### max():\n",
    "\n",
    "Maximum : It returns the minimum value present in the input array elements."
   ]
  },
  {
   "cell_type": "code",
   "execution_count": 78,
   "id": "6698bad5-6ca4-4e2d-b488-0abb5e52a9fe",
   "metadata": {},
   "outputs": [
    {
     "name": "stdout",
     "output_type": "stream",
     "text": [
      "5\n"
     ]
    }
   ],
   "source": [
    "max_value = np.max(array)\n",
    "print(max_value)"
   ]
  },
  {
   "cell_type": "markdown",
   "id": "810600f2-e368-4adf-bee9-a7366907f527",
   "metadata": {},
   "source": [
    "##### argmin():\n",
    "\n",
    "Argmin : It returns the index of the minimum value of the given array"
   ]
  },
  {
   "cell_type": "code",
   "execution_count": 80,
   "id": "e788cf67-5825-4852-ba82-f5795e995114",
   "metadata": {},
   "outputs": [
    {
     "name": "stdout",
     "output_type": "stream",
     "text": [
      "0\n"
     ]
    }
   ],
   "source": [
    "min_index = np.argmin(array)\n",
    "print(min_index)"
   ]
  },
  {
   "cell_type": "markdown",
   "id": "1d0dfdcc-02ee-4716-bbbf-69e13ae2a83d",
   "metadata": {},
   "source": [
    "##### argmax():\n",
    "\n",
    "Argmax : It returns the index of the minimum value of the given array."
   ]
  },
  {
   "cell_type": "code",
   "execution_count": 81,
   "id": "76093c63-6fee-4360-9b41-0d44365cbd53",
   "metadata": {},
   "outputs": [
    {
     "name": "stdout",
     "output_type": "stream",
     "text": [
      "4\n"
     ]
    }
   ],
   "source": [
    "max_index = np.argmax(array)\n",
    "print(max_index)"
   ]
  },
  {
   "cell_type": "markdown",
   "id": "c4adac71-8081-4b39-9acd-45b56128aaab",
   "metadata": {},
   "source": [
    "##### Broadcasting:\n",
    "\n",
    "Broadcasting: Perform operations on each element present yn the input arrays of different shapes"
   ]
  },
  {
   "cell_type": "code",
   "execution_count": 84,
   "id": "f8b64a91-5697-4c1c-b55f-052a5fa0d82b",
   "metadata": {},
   "outputs": [
    {
     "name": "stdout",
     "output_type": "stream",
     "text": [
      "[11 12 13]\n"
     ]
    }
   ],
   "source": [
    "array = np.array([1, 2, 3])\n",
    "broadcasted_result = array + 10  # Adds 10 to each element\n",
    "print(broadcasted_result)"
   ]
  },
  {
   "cell_type": "markdown",
   "id": "13fee292-5421-4e53-865c-4b723c56077a",
   "metadata": {},
   "source": [
    "##### dot():\n",
    "\n",
    "Dot Product: Calculate the dot product of two arrays."
   ]
  },
  {
   "cell_type": "code",
   "execution_count": 86,
   "id": "a4d4bf2b-7d58-42af-b9a9-970767529cb4",
   "metadata": {},
   "outputs": [
    {
     "name": "stdout",
     "output_type": "stream",
     "text": [
      "11\n"
     ]
    }
   ],
   "source": [
    "array1 = np.array([1, 2])\n",
    "array2 = np.array([3, 4])\n",
    "dot_product = np.dot(array1, array2) \n",
    "# 1*3 + 2*4 = 11\n",
    "print(dot_product)"
   ]
  },
  {
   "cell_type": "markdown",
   "id": "418ed838-aba2-46b7-a4f8-57b0c4a8080f",
   "metadata": {},
   "source": [
    "##### Data Type Conversion:\n",
    "\n",
    "Change Data Type: Convert the data type of an array"
   ]
  },
  {
   "cell_type": "code",
   "execution_count": 88,
   "id": "05b52a89-9d0d-444d-badc-76d04ad5873a",
   "metadata": {},
   "outputs": [
    {
     "name": "stdout",
     "output_type": "stream",
     "text": [
      "[1 2 3]\n"
     ]
    }
   ],
   "source": [
    "array = np.array([1.1, 2.2, 3.3])\n",
    "int_array = array.astype(int) \n",
    "# Convert to integer array\n",
    "print(int_array)"
   ]
  },
  {
   "cell_type": "markdown",
   "id": "e7772506-b424-42f0-b4c2-55b50703ef25",
   "metadata": {},
   "source": [
    "### Analyzing the data using numpy:\n",
    "##### Correlation Analysis\n",
    "Correlation analysis helps to determine the relationship between two or more variables. The Pearson correlation coefficient is a common measure of linear correlation."
   ]
  },
  {
   "cell_type": "code",
   "execution_count": 8,
   "id": "1fc61662-0b2e-4370-bea1-6e38658c5321",
   "metadata": {},
   "outputs": [
    {
     "name": "stdout",
     "output_type": "stream",
     "text": [
      "Correlation Coefficient: 0.9580416299057327\n"
     ]
    }
   ],
   "source": [
    "#two variables, X and Y, representing the scores in two different subjects.\n",
    "X = np.array([85, 90, 78, 92, 88])\n",
    "Y = np.array([80, 85, 77, 89, 84])\n",
    "# Calculate Pearson correlation coefficient\n",
    "correlation_matrix = np.corrcoef(X, Y)\n",
    "correlation_coefficient = correlation_matrix[0, 1]\n",
    "print(\"Correlation Coefficient:\", correlation_coefficient)"
   ]
  },
  {
   "cell_type": "markdown",
   "id": "4a01f944-b3bf-4df0-b22d-646bc8458417",
   "metadata": {},
   "source": [
    "### Outlier Detection\n",
    "Outliers are data points that differ significantly from other observations. Detecting outliers can be done using Z-scores or the IQR (Interquartile Range) method.\n",
    "\n",
    "##### 1.Using Z-scores:\n",
    "A Z-score represents the number of standard deviations a data point is from the mean. Typically, a Z-score greater than 3 or less than -3 is considered an outlier."
   ]
  },
  {
   "cell_type": "code",
   "execution_count": 12,
   "id": "4f37f86f-a184-4998-b92f-24a59b6d0d09",
   "metadata": {},
   "outputs": [
    {
     "name": "stdout",
     "output_type": "stream",
     "text": [
      "Outliers: [78 92]\n"
     ]
    }
   ],
   "source": [
    "# Calculate the mean and standard deviation\n",
    "mean_X = np.mean(X)\n",
    "std_X = np.std(X)\n",
    "# Calculate Z-scores\n",
    "z_scores = (X - mean_X) / std_X\n",
    "# Identify outliers (Z-score > 1 or < -1)\n",
    "outliers = X[np.abs(z_scores) > 1]\n",
    "\n",
    "print(\"Outliers:\", outliers)\n"
   ]
  },
  {
   "cell_type": "markdown",
   "id": "0e52ee9f-d1f0-45b1-b114-11a2feb8c0de",
   "metadata": {},
   "source": [
    "##### 2.Using the IQR Method:\n",
    "The IQR method detects outliers by measuring the spread of the middle 50% of the data."
   ]
  },
  {
   "cell_type": "code",
   "execution_count": 15,
   "id": "082d07fa-4769-4551-81f9-ae6e86388e4c",
   "metadata": {},
   "outputs": [
    {
     "name": "stdout",
     "output_type": "stream",
     "text": [
      "Outliers using IQR: [78]\n"
     ]
    }
   ],
   "source": [
    "# Calculate Q1 (25th percentile) and Q3 (75th percentile)\n",
    "Q1 = np.percentile(X, 25)\n",
    "Q3 = np.percentile(X, 75)\n",
    "IQR = Q3 - Q1\n",
    "# Determine the lower and upper bounds for outliers\n",
    "lower_bound = Q1 - 0.5 * IQR\n",
    "upper_bound = Q3 + 0.5 * IQR\n",
    "# Identify outliers\n",
    "outliers_iqr = X[(X < lower_bound) | (X > upper_bound)]\n",
    "print(\"Outliers using IQR:\", outliers_iqr)"
   ]
  },
  {
   "cell_type": "markdown",
   "id": "7035559e-6279-411e-9deb-730e3877dffa",
   "metadata": {},
   "source": [
    "## Applications of Analyzing the data using numpy:"
   ]
  },
  {
   "cell_type": "markdown",
   "id": "9f69de4e-58d6-4e57-8524-a1d06c07dabb",
   "metadata": {},
   "source": [
    "#### 1.Machine Learning:\n",
    "Data Preprocessing: NumPy helps in handling and manipulating large datasets, such as normalizing or transforming features.\n",
    "\n",
    "Matrix Operations: Essential for implementing machine learning algorithms that rely on linear algebra, such as neural networks and clustering algorithms.\n",
    "\n",
    "Performance: Offers fast and efficient computations which are crucial for training models on large datasets.\n",
    "#### Financial Analysis:\n",
    "Data Analysis: Enables the analysis of financial data, such as stock prices, and the calculation of statistical measures like moving averages and volatility.\n",
    "Risk Management: Helps in modeling and simulations, including Monte Carlo simulations for forecasting and risk assessment.\n",
    "Optimization: Used in portfolio optimization and other financial computations that involve matrix operations.\n",
    "#### Scientific Research:\n",
    "Numerical Simulations: Facilitates simulations in physics, engineering, and other scientific fields where matrix operations and mathematical computations are required.\n",
    "Data Analysis: Assists in analyzing experimental data, performing statistical analyses, and visualizing results.\n",
    "Interoperability: Integrates well with other scientific libraries like SciPy and Pandas, enhancing its utility in complex research workflows."
   ]
  },
  {
   "cell_type": "markdown",
   "id": "3fe995e4-9817-4dbe-bb95-866f5addb6d0",
   "metadata": {},
   "source": [
    "#### Analyzing Daily Temperatures:"
   ]
  },
  {
   "cell_type": "markdown",
   "id": "02199b72-4a7c-4f81-8828-c3e4689063d1",
   "metadata": {},
   "source": [
    "Problem Statement:\n",
    "\n",
    "Suppose we have a dataset containing daily temperature readings for a city over a year , and you want to perform various analyses such as calculaing the average temperature , finding the hottest and coldest days , and identifying days with temperatures above a certain threshold.\n",
    "\n",
    "Steps to follow:\n",
    "\n",
    "##### 1.Loading and Exploring Data:\n"
   ]
  },
  {
   "cell_type": "code",
   "execution_count": 2,
   "id": "6d7288a8-1b8f-4321-9dd7-496539539fe5",
   "metadata": {},
   "outputs": [],
   "source": [
    "import numpy as np"
   ]
  },
  {
   "cell_type": "code",
   "execution_count": 3,
   "id": "97d39ea1-9ab9-402e-9c47-b23d2679a7f5",
   "metadata": {},
   "outputs": [],
   "source": [
    "#Example : daily temperatures (in celsius) over a year\n",
    "temp = np.array([22.1,23.5,21.7,20.3,25.1,30.2,28.4,24.5,19.8,21.0,23.7,27.2])"
   ]
  },
  {
   "cell_type": "markdown",
   "id": "260da67d-d8fd-49ea-aefe-f7de7ab06128",
   "metadata": {},
   "source": [
    "##### Saving array to files:"
   ]
  },
  {
   "cell_type": "code",
   "execution_count": 4,
   "id": "0a102ef4-c38c-48c5-b61a-c7b7f029dcf3",
   "metadata": {},
   "outputs": [],
   "source": [
    "np.save('temp.npy', temp)"
   ]
  },
  {
   "cell_type": "markdown",
   "id": "3fde0a36-4282-41d5-8415-5c28d00c38d3",
   "metadata": {},
   "source": [
    "##### Loading them to back:"
   ]
  },
  {
   "cell_type": "code",
   "execution_count": 5,
   "id": "1a44f975-bec6-4a82-9fe6-b798ad1a23ec",
   "metadata": {},
   "outputs": [],
   "source": [
    "loaded_array = np.load('temp.npy')"
   ]
  },
  {
   "cell_type": "markdown",
   "id": "5735945a-7368-4b5d-9310-226512818374",
   "metadata": {},
   "source": [
    "##### calculating the mean temperature:\n",
    "\n",
    "To find average temperature over the year."
   ]
  },
  {
   "cell_type": "code",
   "execution_count": 6,
   "id": "260332b1-b89a-4818-8c57-246f4ebf2172",
   "metadata": {},
   "outputs": [
    {
     "name": "stdout",
     "output_type": "stream",
     "text": [
      "average temperature over the year:23.96c\n"
     ]
    }
   ],
   "source": [
    "mean_temp = np.mean(temp)\n",
    "print(f\"average temperature over the year:{mean_temp:.2f}c\")"
   ]
  },
  {
   "cell_type": "markdown",
   "id": "9ce42355-cfe4-467d-845a-56a0790b4b83",
   "metadata": {},
   "source": [
    "##### Finding minimum and maximum temperatures over the year:\n",
    "\n",
    "To determine the hottest and coldest days over the year."
   ]
  },
  {
   "cell_type": "code",
   "execution_count": 19,
   "id": "a56c0bf8-0042-4ae8-8dea-4a3eaed17669",
   "metadata": {},
   "outputs": [
    {
     "name": "stdout",
     "output_type": "stream",
     "text": [
      "the maximum temperature recored in the year is:30.20c\n",
      "the minimum temperature recored in the year is:19.80c\n"
     ]
    }
   ],
   "source": [
    "max_temp = np.max(temp)\n",
    "print(f\"the maximum temperature recored in the year is:{max_temp:.2f}c\")\n",
    "min_temp = np.min(temp)\n",
    "print(f\"the minimum temperature recored in the year is:{min_temp:.2f}c\")"
   ]
  },
  {
   "cell_type": "markdown",
   "id": "3a112aff-c695-4177-9a98-ca9f356fa164",
   "metadata": {},
   "source": [
    "##### Identifying days above a certain threshold:\n",
    "\n",
    "To find all days where the temperature above 27c using boolean indexing."
   ]
  },
  {
   "cell_type": "code",
   "execution_count": 20,
   "id": "4779add0-0d08-4ef7-adbc-eaf8aacaf482",
   "metadata": {},
   "outputs": [
    {
     "name": "stdout",
     "output_type": "stream",
     "text": [
      "days with temperature above 27c is :[30.2 28.4 27.2]\n"
     ]
    }
   ],
   "source": [
    "hot_days = temp[temp>27]\n",
    "print(f\"days with temperature above 27c is :{hot_days}\")"
   ]
  },
  {
   "cell_type": "markdown",
   "id": "c919a4ab-7517-4fe6-b8cb-f3377f6103b8",
   "metadata": {},
   "source": [
    "##### Performing vectorized operations:\n",
    "\n",
    "Numpy allows to perform operations on entire arrays without the need for explicit loops , making the code faster and more concise."
   ]
  },
  {
   "cell_type": "code",
   "execution_count": 21,
   "id": "66ab32c7-77e5-4e61-bd49-8f0871a201e7",
   "metadata": {},
   "outputs": [
    {
     "name": "stdout",
     "output_type": "stream",
     "text": [
      "Temperatures in Fahrenheit:[71.78 74.3  71.06 68.54 77.18 86.36 83.12 76.1  67.64 69.8  74.66 80.96]\n"
     ]
    }
   ],
   "source": [
    "f_temp = (temp * 9/5) +32\n",
    "print(f\"Temperatures in Fahrenheit:{f_temp}\")"
   ]
  },
  {
   "cell_type": "markdown",
   "id": "44ea7a7e-9c02-4ec3-b225-73d81280cab6",
   "metadata": {},
   "source": [
    "#### Predicting House Prices:\n",
    "\n",
    "Problem Statement:\n",
    "\n",
    "Suppose you are working on a project to predict house prices based on features such as the size of the house, the number of bedrooms, the number of \n",
    "bathrooms, and the distance to the city center. You have a dataset containing these features for several houses, along with their actual prices. \n",
    "Our goal is to build a model to predict the price of a house given its features.\n",
    "\n",
    "Steps to follow:\n",
    "\n",
    "##### 1.Loading and Exploring Data:\n",
    "    \n",
    "First, you'll load the data and explore it to understand its structure."
   ]
  },
  {
   "cell_type": "code",
   "execution_count": 22,
   "id": "40b686d9-9bcd-490d-a3aa-8e9b4e72aed0",
   "metadata": {},
   "outputs": [],
   "source": [
    "import numpy as np"
   ]
  },
  {
   "cell_type": "code",
   "execution_count": 23,
   "id": "2bf29b9f-c810-4079-8dbd-45fd02790a9e",
   "metadata": {},
   "outputs": [],
   "source": [
    "# Example data: size (sqft), number of bedrooms, number of bathrooms, distance to city center (miles),Prices are in thousands of dollars\n",
    "data = np.array([\n",
    "    [2100, 3, 2, 10, 400],\n",
    "    [1600, 2, 1, 15, 330],\n",
    "    [2400, 4, 3, 5, 540],\n",
    "    [1410, 3, 1, 20, 280],\n",
    "    [3000, 4, 4, 2, 610],\n",
    "])"
   ]
  },
  {
   "cell_type": "markdown",
   "id": "ff681041-caa4-4201-a640-26e93b2ce9f0",
   "metadata": {},
   "source": [
    "Saving to files:"
   ]
  },
  {
   "cell_type": "code",
   "execution_count": 24,
   "id": "3af9cd7c-2fbb-4062-b265-2b14323ee6ab",
   "metadata": {},
   "outputs": [],
   "source": [
    "np.save('data.npy', data)"
   ]
  },
  {
   "cell_type": "markdown",
   "id": "5be2c7d1-edd6-44c9-96cb-b65a4bc03ac6",
   "metadata": {},
   "source": [
    "Loading them to back:"
   ]
  },
  {
   "cell_type": "code",
   "execution_count": 25,
   "id": "92b6057e-5e63-40dd-b298-19b9d87aa0e6",
   "metadata": {},
   "outputs": [],
   "source": [
    "loaded_array = np.load('data.npy')"
   ]
  },
  {
   "cell_type": "markdown",
   "id": "7486796c-ff2d-4a18-814e-ad487eaa1c58",
   "metadata": {},
   "source": [
    "Splitting of data:"
   ]
  },
  {
   "cell_type": "code",
   "execution_count": 26,
   "id": "b88c1111-3927-422b-9f47-3cb84ea28824",
   "metadata": {},
   "outputs": [],
   "source": [
    "# Split the data into features (X) and target (y)\n",
    "X = data[:, :-1]  # All rows, all columns except the last one\n",
    "y = data[:, -1]   # All rows, only the last column"
   ]
  },
  {
   "cell_type": "markdown",
   "id": "e45de250-d259-4110-8968-b6f073453c8c",
   "metadata": {},
   "source": [
    "##### 2.Data Preprocessing:\n",
    "\n",
    "Often, data needs to be normalized or standardized before feeding it into a machine learning model. This step ensures that all features contribute equally to the model"
   ]
  },
  {
   "cell_type": "code",
   "execution_count": 27,
   "id": "750f427e-6798-40f7-9865-4af1ff88c3bd",
   "metadata": {},
   "outputs": [],
   "source": [
    "# Normalizing the feature data\n",
    "X_mean = np.mean(X, axis=0)\n",
    "X_std = np.std(X, axis=0)\n",
    "X_normalized = (X - X_mean) / X_std"
   ]
  },
  {
   "cell_type": "markdown",
   "id": "7d627dc0-dc80-4bba-886a-d54c8b05b31c",
   "metadata": {},
   "source": [
    "##### 3.Building a Simple Linear Model:\n",
    "   \n",
    "Let's assume you want to create a simple linear regression model to predict house prices. While sophisticated libraries like scikit-learn can be used, we'll demonstrate this manually using NumPy."
   ]
  },
  {
   "cell_type": "code",
   "execution_count": 28,
   "id": "01a46eb0-c487-410e-b39d-98a11a0c730d",
   "metadata": {},
   "outputs": [
    {
     "name": "stdout",
     "output_type": "stream",
     "text": [
      "Iteration 0, Loss: 192174.7803\n",
      "Iteration 100, Loss: 3439.1997\n",
      "Iteration 200, Loss: 306.5426\n",
      "Iteration 300, Loss: 237.0190\n",
      "Iteration 400, Loss: 228.7231\n",
      "Iteration 500, Loss: 223.9911\n",
      "Iteration 600, Loss: 220.2723\n",
      "Iteration 700, Loss: 217.0234\n",
      "Iteration 800, Loss: 214.0618\n",
      "Iteration 900, Loss: 211.3146\n",
      "Final weights: [431.99999927  25.77260169  10.64432756  37.52697124 -52.95765092]\n"
     ]
    }
   ],
   "source": [
    "# Add a bias term (intercept) to the feature matrix\n",
    "X_bias = np.c_[np.ones(X_normalized.shape[0]), X_normalized]\n",
    "\n",
    "# Initialize weights (coefficients), including the intercept\n",
    "weights = np.random.rand(X_bias.shape[1])\n",
    "\n",
    "# Define a function to calculate predictions\n",
    "def predict(X, weights):\n",
    "    return np.dot(X, weights)\n",
    "\n",
    "# Define a loss function (Mean Squared Error)\n",
    "def compute_loss(X, y, weights):\n",
    "    predictions = predict(X, weights)\n",
    "    errors = predictions - y\n",
    "    return np.mean(errors**2)\n",
    "\n",
    "# Gradient Descent to optimize weights\n",
    "learning_rate = 0.01\n",
    "num_iterations = 1000\n",
    "\n",
    "for i in range(num_iterations):\n",
    "    predictions = predict(X_bias, weights)\n",
    "    errors = predictions - y\n",
    "    gradient = 2 * np.dot(X_bias.T, errors) / len(y)\n",
    "    weights -= learning_rate * gradient\n",
    "\n",
    "    if i % 100 == 0:\n",
    "        loss = compute_loss(X_bias, y, weights)\n",
    "        print(f\"Iteration {i}, Loss: {loss:.4f}\")\n",
    "\n",
    "# Final weights\n",
    "print(\"Final weights:\", weights)"
   ]
  },
  {
   "cell_type": "markdown",
   "id": "06d989e3-e937-4d9a-9195-e1c0b8b06c83",
   "metadata": {},
   "source": [
    "##### 4.Making Predictions:\n",
    "\n",
    "Once the model is trained, you can use it to predict the price of a new house."
   ]
  },
  {
   "cell_type": "code",
   "execution_count": 29,
   "id": "31279184-1ef9-4d4c-9b22-45df2dca47eb",
   "metadata": {},
   "outputs": [
    {
     "name": "stdout",
     "output_type": "stream",
     "text": [
      "Predicted price of the new house: $437.57K\n"
     ]
    }
   ],
   "source": [
    "# Example new house features (size, bedrooms, bathrooms, distance)\n",
    "new_house = np.array([2000, 3, 2, 8])\n",
    "\n",
    "# Normalize the new house features\n",
    "new_house_normalized = (new_house - X_mean) / X_std\n",
    "\n",
    "# Add bias term\n",
    "new_house_bias = np.insert(new_house_normalized, 0, 1)\n",
    "\n",
    "# Predict the price\n",
    "predicted_price = predict(new_house_bias, weights)\n",
    "print(f\"Predicted price of the new house: ${predicted_price:.2f}K\")\n"
   ]
  },
  {
   "cell_type": "markdown",
   "id": "91cf8ba0-a01f-4194-8d5d-0c63fc7b7f58",
   "metadata": {},
   "source": [
    "#### Advantages of Numpy in data science:"
   ]
  },
  {
   "cell_type": "markdown",
   "id": "c39a6453-9f0a-416e-b552-26e6dfd6f3de",
   "metadata": {},
   "source": [
    "##### Efficiency: \n",
    "NumPy is highly optimized for numerical computation, making it faster than standard Python lists and loops.\n",
    "\n",
    "##### Flexibility:\n",
    "It provides a range of functions for mathematical operations, data reshaping, and manipulation.\n",
    "\n",
    "##### Interoperability:\n",
    "NumPy arrays are the foundation for many other data science libraries (e.g., Pandas, scikit-learn), making it easy to integrate into larger data pipelines."
   ]
  }
 ],
 "metadata": {
  "kernelspec": {
   "display_name": "Python 3 (ipykernel)",
   "language": "python",
   "name": "python3"
  },
  "language_info": {
   "codemirror_mode": {
    "name": "ipython",
    "version": 3
   },
   "file_extension": ".py",
   "mimetype": "text/x-python",
   "name": "python",
   "nbconvert_exporter": "python",
   "pygments_lexer": "ipython3",
   "version": "3.10.1"
  }
 },
 "nbformat": 4,
 "nbformat_minor": 5
}
